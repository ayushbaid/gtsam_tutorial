{
 "cells": [
  {
   "cell_type": "code",
   "execution_count": 2,
   "metadata": {},
   "outputs": [],
   "source": [
    "import sys\n",
    "sys.path.append(r'/usr/local/cython/gtsam/')\n",
    "sys.path.append(r'/usr/local/cython/gtsam/examples/')"
   ]
  },
  {
   "cell_type": "code",
   "execution_count": 3,
   "metadata": {},
   "outputs": [],
   "source": [
    "import gtsam\n",
    "import numpy as np\n",
    "from gtsam.gtsam import (Cal3_S2, DoglegOptimizer,\n",
    "                         GenericProjectionFactorCal3_S2, NonlinearFactorGraph,\n",
    "                         Point3, Pose3, PriorFactorPoint3, PriorFactorPose3,\n",
    "                         Rot3, SimpleCamera, Values)"
   ]
  },
  {
   "cell_type": "code",
   "execution_count": 3,
   "metadata": {},
   "outputs": [],
   "source": [
    "def symbol(name: str, index: int) -> int:\n",
    "    \"\"\" helper for creating a symbol without explicitly casting 'name' from str to int \"\"\"\n",
    "    return gtsam.symbol(ord(name), index)"
   ]
  },
  {
   "cell_type": "code",
   "execution_count": 4,
   "metadata": {},
   "outputs": [],
   "source": [
    "# Define the camera calibration parameters\n",
    "K = Cal3_S2(50.0, 50.0, 0.0, 50.0, 50.0)"
   ]
  },
  {
   "cell_type": "code",
   "execution_count": 5,
   "metadata": {},
   "outputs": [],
   "source": [
    "def createPoints():\n",
    "    # Create the set of ground-truth landmarks\n",
    "    points = [gtsam.Point3(10.0, 10.0, 10.0),\n",
    "              gtsam.Point3(-10.0, 10.0, 10.0),\n",
    "              gtsam.Point3(-10.0, -10.0, 10.0),\n",
    "              gtsam.Point3(10.0, -10.0, 10.0),\n",
    "              gtsam.Point3(10.0, 10.0, -10.0),\n",
    "              gtsam.Point3(-10.0, 10.0, -10.0),\n",
    "              gtsam.Point3(-10.0, -10.0, -10.0),\n",
    "              gtsam.Point3(10.0, -10.0, -10.0)]\n",
    "    return points"
   ]
  },
  {
   "cell_type": "code",
   "execution_count": 6,
   "metadata": {},
   "outputs": [],
   "source": [
    "def createPoses(K):\n",
    "    \"\"\"\n",
    "    Args:\n",
    "      K: camera instrinsic\n",
    "    \"\"\"\n",
    "    # Create the set of ground-truth poses\n",
    "    radius = 30.0\n",
    "    angles = np.linspace(0, 2*np.pi, 8, endpoint=False)\n",
    "    up = gtsam.Point3(0, 0, 1)\n",
    "    target = gtsam.Point3(0, 0, 0)\n",
    "    poses = []\n",
    "    for theta in angles:\n",
    "        position = gtsam.Point3(radius*np.cos(theta),\n",
    "                                radius*np.sin(theta), 0.0)\n",
    "        camera = gtsam.PinholeCameraCal3_S2.Lookat(position, target, up, K)\n",
    "        poses.append(camera.pose())\n",
    "    return poses"
   ]
  },
  {
   "cell_type": "code",
   "execution_count": 7,
   "metadata": {},
   "outputs": [
    {
     "name": "stdout",
     "output_type": "stream",
     "text": [
      "<class 'gtsam.gtsam.Cal3_S2'>\n"
     ]
    }
   ],
   "source": [
    "print(type(K))"
   ]
  },
  {
   "cell_type": "code",
   "execution_count": 8,
   "metadata": {},
   "outputs": [],
   "source": [
    "# Define the camera observation noise model\n",
    "measurement_noise = gtsam.noiseModel_Isotropic.Sigma(2, 1.0)  # one pixel in u and v"
   ]
  },
  {
   "cell_type": "code",
   "execution_count": 9,
   "metadata": {},
   "outputs": [],
   "source": [
    "# Create the set of ground-truth landmarks\n",
    "points = createPoints()\n",
    "\n",
    "# Create the set of ground-truth poses\n",
    "poses = createPoses(K)\n",
    "\n",
    "# Create a factor graph\n",
    "graph = NonlinearFactorGraph()"
   ]
  },
  {
   "cell_type": "code",
   "execution_count": 10,
   "metadata": {},
   "outputs": [],
   "source": [
    "# Add a prior on pose x1. This indirectly specifies where the origin is.\n",
    "# 0.3 rad std on roll,pitch,yaw and 0.1m on x,y,z\n",
    "pose_noise = gtsam.noiseModel_Diagonal.Sigmas(np.array([0.3, 0.3, 0.3, 0.1, 0.1, 0.1]))\n",
    "factor = PriorFactorPose3(symbol('x', 0), poses[0], pose_noise)\n",
    "graph.push_back(factor)"
   ]
  },
  {
   "cell_type": "code",
   "execution_count": 11,
   "metadata": {},
   "outputs": [],
   "source": [
    "# Simulated measurements from each camera pose, adding them to the factor graph\n",
    "for i, pose in enumerate(poses):\n",
    "    camera = SimpleCamera(pose, K)\n",
    "    for j, point in enumerate(points):\n",
    "        measurement = camera.project(point)\n",
    "        factor = GenericProjectionFactorCal3_S2(\n",
    "            measurement, measurement_noise, symbol('x', i), symbol('l', j), K)\n",
    "        graph.push_back(factor)"
   ]
  },
  {
   "cell_type": "code",
   "execution_count": 12,
   "metadata": {},
   "outputs": [],
   "source": [
    "point_noise = gtsam.noiseModel_Isotropic.Sigma(3, 0.1)\n",
    "factor = PriorFactorPoint3(symbol('l', 0), points[0], point_noise)\n",
    "graph.push_back(factor)\n",
    "graph.print_('Factor Graph:\\n')"
   ]
  },
  {
   "cell_type": "code",
   "execution_count": 13,
   "metadata": {},
   "outputs": [],
   "source": [
    "# Create the data structure to hold the initial estimate to the solution\n",
    "# Intentionally initialize the variables off from the ground truth\n",
    "initial_estimate = Values()"
   ]
  },
  {
   "cell_type": "code",
   "execution_count": 14,
   "metadata": {},
   "outputs": [],
   "source": [
    "for i, pose in enumerate(poses):\n",
    "  r = Rot3.Rodrigues(-0.1, 0.2, 0.25)\n",
    "  t = Point3(0.05, -0.10, 0.20)\n",
    "  transformed_pose = pose.compose(Pose3(r, t))\n",
    "  initial_estimate.insert(symbol('x', i), transformed_pose)"
   ]
  },
  {
   "cell_type": "code",
   "execution_count": null,
   "metadata": {},
   "outputs": [],
   "source": [
    "for j, point in enumerate(points):\n",
    "  print(point.vector())\n",
    "  #transformed_point = Point3(point.vector() + np.array([-0.25, 0.20, 0.15]))\n",
    "  #print(transformed_point)\n",
    "  #initial_estimate.insert(symbol('l', j), transformed_point)  "
   ]
  },
  {
   "cell_type": "code",
   "execution_count": 4,
   "metadata": {},
   "outputs": [
    {
     "name": "stdout",
     "output_type": "stream",
     "text": [
      "Help on class Point3 in module gtsam:\n",
      "\n",
      "class Point3(builtins.object)\n",
      " |  Methods defined here:\n",
      " |  \n",
      " |  __init__(self, /, *args, **kwargs)\n",
      " |      Initialize self.  See help(type(self)) for accurate signature.\n",
      " |  \n",
      " |  __reduce__ = __reduce_cython__(...)\n",
      " |  \n",
      " |  __repr__(self, /)\n",
      " |      Return repr(self).\n",
      " |  \n",
      " |  __setstate__ = __setstate_cython__(...)\n",
      " |  \n",
      " |  equals(...)\n",
      " |  \n",
      " |  print_(...)\n",
      " |  \n",
      " |  vector(...)\n",
      " |  \n",
      " |  x(...)\n",
      " |  \n",
      " |  y(...)\n",
      " |  \n",
      " |  z(...)\n",
      " |  \n",
      " |  ----------------------------------------------------------------------\n",
      " |  Static methods defined here:\n",
      " |  \n",
      " |  __new__(*args, **kwargs) from builtins.type\n",
      " |      Create and return a new object.  See help(type) for accurate signature.\n",
      " |  \n",
      " |  identity(...)\n",
      " |  \n",
      " |  ----------------------------------------------------------------------\n",
      " |  Data and other attributes defined here:\n",
      " |  \n",
      " |  __pyx_vtable__ = <capsule object NULL>\n",
      "\n"
     ]
    }
   ],
   "source": [
    "help(Point3)"
   ]
  },
  {
   "cell_type": "code",
   "execution_count": null,
   "metadata": {},
   "outputs": [],
   "source": [
    "initial_estimate.print_('Initial Estimates:\\n')"
   ]
  },
  {
   "cell_type": "code",
   "execution_count": null,
   "metadata": {},
   "outputs": [],
   "source": [
    "# Optimize the graph and print results\n",
    "params = gtsam.DoglegParams()\n",
    "params.setVerbosity('TERMINATION')\n",
    "optimizer = DoglegOptimizer(graph, initial_estimate, params)\n",
    "print('Optimizing:')"
   ]
  },
  {
   "cell_type": "code",
   "execution_count": null,
   "metadata": {},
   "outputs": [],
   "source": [
    "result = optimizer.optimize()\n",
    "result.print_('Final results:\\n')\n",
    "print('initial error = {}'.format(graph.error(initial_estimate)))\n",
    "print('final error = {}'.format(graph.error(result)))"
   ]
  }
 ],
 "metadata": {
  "kernelspec": {
   "display_name": "Python 3",
   "language": "python",
   "name": "python3"
  },
  "language_info": {
   "codemirror_mode": {
    "name": "ipython",
    "version": 3
   },
   "file_extension": ".py",
   "mimetype": "text/x-python",
   "name": "python",
   "nbconvert_exporter": "python",
   "pygments_lexer": "ipython3",
   "version": "3.7.3"
  },
  "latex_envs": {
   "LaTeX_envs_menu_present": true,
   "autoclose": false,
   "autocomplete": true,
   "bibliofile": "biblio.bib",
   "cite_by": "apalike",
   "current_citInitial": 1,
   "eqLabelWithNumbers": true,
   "eqNumInitial": 1,
   "hotkeys": {
    "equation": "Ctrl-E",
    "itemize": "Ctrl-I"
   },
   "labels_anchors": false,
   "latex_user_defs": false,
   "report_style_numbering": false,
   "user_envs_cfg": false
  },
  "toc": {
   "base_numbering": 1,
   "nav_menu": {},
   "number_sections": true,
   "sideBar": true,
   "skip_h1_title": false,
   "title_cell": "Table of Contents",
   "title_sidebar": "Contents",
   "toc_cell": false,
   "toc_position": {},
   "toc_section_display": true,
   "toc_window_display": false
  }
 },
 "nbformat": 4,
 "nbformat_minor": 2
}
